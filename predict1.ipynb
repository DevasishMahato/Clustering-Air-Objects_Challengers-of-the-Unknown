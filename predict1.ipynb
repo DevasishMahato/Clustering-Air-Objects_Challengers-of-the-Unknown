{
  "nbformat": 4,
  "nbformat_minor": 0,
  "metadata": {
    "colab": {
      "name": "predict1.ipynb",
      "provenance": [],
      "collapsed_sections": []
    },
    "kernelspec": {
      "name": "python3",
      "display_name": "Python 3"
    },
    "accelerator": "GPU"
  },
  "cells": [
    {
      "cell_type": "code",
      "metadata": {
        "id": "YoTJXtEZpQCE",
        "colab_type": "code",
        "colab": {
          "base_uri": "https://localhost:8080/",
          "height": 34
        },
        "outputId": "e8f67a5f-8b99-4bec-bfd5-3039583470d7"
      },
      "source": [
        "import pandas as pd\n",
        "from sklearn.model_selection import train_test_split\n",
        "from sklearn.preprocessing import MinMaxScaler\n",
        "import math\n",
        "from sklearn.metrics import mean_squared_error\n",
        "import numpy as np\n",
        "from keras.models import Sequential\n",
        "from keras.layers import Dense\n",
        "from keras.layers import LSTM\n",
        "from keras.callbacks import ModelCheckpoint\n",
        "import matplotlib.pyplot as plt"
      ],
      "execution_count": 1,
      "outputs": [
        {
          "output_type": "stream",
          "text": [
            "Using TensorFlow backend.\n"
          ],
          "name": "stderr"
        }
      ]
    },
    {
      "cell_type": "code",
      "metadata": {
        "id": "kzWLLo-CqeDd",
        "colab_type": "code",
        "colab": {
          "base_uri": "https://localhost:8080/",
          "height": 204
        },
        "outputId": "ab6fad90-8f17-48fa-cee6-ec20be24962f"
      },
      "source": [
        "df = pd.read_csv('/content/drive/Shared drives/SIH2020/Dataset/atomdata/datawithoutgroup.csv')\n",
        "df.head()"
      ],
      "execution_count": 2,
      "outputs": [
        {
          "output_type": "execute_result",
          "data": {
            "text/html": [
              "<div>\n",
              "<style scoped>\n",
              "    .dataframe tbody tr th:only-of-type {\n",
              "        vertical-align: middle;\n",
              "    }\n",
              "\n",
              "    .dataframe tbody tr th {\n",
              "        vertical-align: top;\n",
              "    }\n",
              "\n",
              "    .dataframe thead th {\n",
              "        text-align: right;\n",
              "    }\n",
              "</style>\n",
              "<table border=\"1\" class=\"dataframe\">\n",
              "  <thead>\n",
              "    <tr style=\"text-align: right;\">\n",
              "      <th></th>\n",
              "      <th>Unnamed: 0</th>\n",
              "      <th>RF</th>\n",
              "      <th>UTC_Start</th>\n",
              "      <th>UTC_Stop</th>\n",
              "      <th>Latitude</th>\n",
              "      <th>Longitude</th>\n",
              "      <th>Altitude (m masl GPS)</th>\n",
              "      <th>Speed</th>\n",
              "      <th>Acceleration</th>\n",
              "    </tr>\n",
              "  </thead>\n",
              "  <tbody>\n",
              "    <tr>\n",
              "      <th>0</th>\n",
              "      <td>0</td>\n",
              "      <td>1.0</td>\n",
              "      <td>0.0</td>\n",
              "      <td>10.0</td>\n",
              "      <td>34.630960</td>\n",
              "      <td>-118.107350</td>\n",
              "      <td>799.533333</td>\n",
              "      <td>0.000665</td>\n",
              "      <td>0.000033</td>\n",
              "    </tr>\n",
              "    <tr>\n",
              "      <th>1</th>\n",
              "      <td>1</td>\n",
              "      <td>1.0</td>\n",
              "      <td>10.0</td>\n",
              "      <td>20.0</td>\n",
              "      <td>34.630694</td>\n",
              "      <td>-118.113999</td>\n",
              "      <td>842.990000</td>\n",
              "      <td>0.000994</td>\n",
              "      <td>0.000003</td>\n",
              "    </tr>\n",
              "    <tr>\n",
              "      <th>2</th>\n",
              "      <td>2</td>\n",
              "      <td>1.0</td>\n",
              "      <td>20.0</td>\n",
              "      <td>30.0</td>\n",
              "      <td>34.630241</td>\n",
              "      <td>-118.123933</td>\n",
              "      <td>918.600000</td>\n",
              "      <td>0.001027</td>\n",
              "      <td>0.000004</td>\n",
              "    </tr>\n",
              "    <tr>\n",
              "      <th>3</th>\n",
              "      <td>3</td>\n",
              "      <td>1.0</td>\n",
              "      <td>30.0</td>\n",
              "      <td>40.0</td>\n",
              "      <td>34.629899</td>\n",
              "      <td>-118.134193</td>\n",
              "      <td>980.130000</td>\n",
              "      <td>0.001065</td>\n",
              "      <td>-0.000004</td>\n",
              "    </tr>\n",
              "    <tr>\n",
              "      <th>4</th>\n",
              "      <td>4</td>\n",
              "      <td>1.0</td>\n",
              "      <td>40.0</td>\n",
              "      <td>50.0</td>\n",
              "      <td>34.630087</td>\n",
              "      <td>-118.144843</td>\n",
              "      <td>1037.710000</td>\n",
              "      <td>0.001029</td>\n",
              "      <td>0.000003</td>\n",
              "    </tr>\n",
              "  </tbody>\n",
              "</table>\n",
              "</div>"
            ],
            "text/plain": [
              "   Unnamed: 0   RF  UTC_Start  ...  Altitude (m masl GPS)     Speed  Acceleration\n",
              "0           0  1.0        0.0  ...             799.533333  0.000665      0.000033\n",
              "1           1  1.0       10.0  ...             842.990000  0.000994      0.000003\n",
              "2           2  1.0       20.0  ...             918.600000  0.001027      0.000004\n",
              "3           3  1.0       30.0  ...             980.130000  0.001065     -0.000004\n",
              "4           4  1.0       40.0  ...            1037.710000  0.001029      0.000003\n",
              "\n",
              "[5 rows x 9 columns]"
            ]
          },
          "metadata": {
            "tags": []
          },
          "execution_count": 2
        }
      ]
    },
    {
      "cell_type": "code",
      "metadata": {
        "id": "1QcuiC6pqkd2",
        "colab_type": "code",
        "colab": {
          "base_uri": "https://localhost:8080/",
          "height": 204
        },
        "outputId": "89994a03-f093-4c1d-dd2a-bd113c783420"
      },
      "source": [
        "df.columns\n",
        "df.rename(columns={'Altitude (m masl GPS)':'Altitude'},inplace=True)\n",
        "df.head()"
      ],
      "execution_count": 3,
      "outputs": [
        {
          "output_type": "execute_result",
          "data": {
            "text/html": [
              "<div>\n",
              "<style scoped>\n",
              "    .dataframe tbody tr th:only-of-type {\n",
              "        vertical-align: middle;\n",
              "    }\n",
              "\n",
              "    .dataframe tbody tr th {\n",
              "        vertical-align: top;\n",
              "    }\n",
              "\n",
              "    .dataframe thead th {\n",
              "        text-align: right;\n",
              "    }\n",
              "</style>\n",
              "<table border=\"1\" class=\"dataframe\">\n",
              "  <thead>\n",
              "    <tr style=\"text-align: right;\">\n",
              "      <th></th>\n",
              "      <th>Unnamed: 0</th>\n",
              "      <th>RF</th>\n",
              "      <th>UTC_Start</th>\n",
              "      <th>UTC_Stop</th>\n",
              "      <th>Latitude</th>\n",
              "      <th>Longitude</th>\n",
              "      <th>Altitude</th>\n",
              "      <th>Speed</th>\n",
              "      <th>Acceleration</th>\n",
              "    </tr>\n",
              "  </thead>\n",
              "  <tbody>\n",
              "    <tr>\n",
              "      <th>0</th>\n",
              "      <td>0</td>\n",
              "      <td>1.0</td>\n",
              "      <td>0.0</td>\n",
              "      <td>10.0</td>\n",
              "      <td>34.630960</td>\n",
              "      <td>-118.107350</td>\n",
              "      <td>799.533333</td>\n",
              "      <td>0.000665</td>\n",
              "      <td>0.000033</td>\n",
              "    </tr>\n",
              "    <tr>\n",
              "      <th>1</th>\n",
              "      <td>1</td>\n",
              "      <td>1.0</td>\n",
              "      <td>10.0</td>\n",
              "      <td>20.0</td>\n",
              "      <td>34.630694</td>\n",
              "      <td>-118.113999</td>\n",
              "      <td>842.990000</td>\n",
              "      <td>0.000994</td>\n",
              "      <td>0.000003</td>\n",
              "    </tr>\n",
              "    <tr>\n",
              "      <th>2</th>\n",
              "      <td>2</td>\n",
              "      <td>1.0</td>\n",
              "      <td>20.0</td>\n",
              "      <td>30.0</td>\n",
              "      <td>34.630241</td>\n",
              "      <td>-118.123933</td>\n",
              "      <td>918.600000</td>\n",
              "      <td>0.001027</td>\n",
              "      <td>0.000004</td>\n",
              "    </tr>\n",
              "    <tr>\n",
              "      <th>3</th>\n",
              "      <td>3</td>\n",
              "      <td>1.0</td>\n",
              "      <td>30.0</td>\n",
              "      <td>40.0</td>\n",
              "      <td>34.629899</td>\n",
              "      <td>-118.134193</td>\n",
              "      <td>980.130000</td>\n",
              "      <td>0.001065</td>\n",
              "      <td>-0.000004</td>\n",
              "    </tr>\n",
              "    <tr>\n",
              "      <th>4</th>\n",
              "      <td>4</td>\n",
              "      <td>1.0</td>\n",
              "      <td>40.0</td>\n",
              "      <td>50.0</td>\n",
              "      <td>34.630087</td>\n",
              "      <td>-118.144843</td>\n",
              "      <td>1037.710000</td>\n",
              "      <td>0.001029</td>\n",
              "      <td>0.000003</td>\n",
              "    </tr>\n",
              "  </tbody>\n",
              "</table>\n",
              "</div>"
            ],
            "text/plain": [
              "   Unnamed: 0   RF  UTC_Start  ...     Altitude     Speed  Acceleration\n",
              "0           0  1.0        0.0  ...   799.533333  0.000665      0.000033\n",
              "1           1  1.0       10.0  ...   842.990000  0.000994      0.000003\n",
              "2           2  1.0       20.0  ...   918.600000  0.001027      0.000004\n",
              "3           3  1.0       30.0  ...   980.130000  0.001065     -0.000004\n",
              "4           4  1.0       40.0  ...  1037.710000  0.001029      0.000003\n",
              "\n",
              "[5 rows x 9 columns]"
            ]
          },
          "metadata": {
            "tags": []
          },
          "execution_count": 3
        }
      ]
    },
    {
      "cell_type": "code",
      "metadata": {
        "id": "j7can6HexmNc",
        "colab_type": "code",
        "colab": {
          "base_uri": "https://localhost:8080/",
          "height": 204
        },
        "outputId": "b8f8bf36-801d-44ec-8b81-8462545efd5f"
      },
      "source": [
        "data = df[['Latitude','Longitude','Altitude']]\n",
        "data.head()"
      ],
      "execution_count": 4,
      "outputs": [
        {
          "output_type": "execute_result",
          "data": {
            "text/html": [
              "<div>\n",
              "<style scoped>\n",
              "    .dataframe tbody tr th:only-of-type {\n",
              "        vertical-align: middle;\n",
              "    }\n",
              "\n",
              "    .dataframe tbody tr th {\n",
              "        vertical-align: top;\n",
              "    }\n",
              "\n",
              "    .dataframe thead th {\n",
              "        text-align: right;\n",
              "    }\n",
              "</style>\n",
              "<table border=\"1\" class=\"dataframe\">\n",
              "  <thead>\n",
              "    <tr style=\"text-align: right;\">\n",
              "      <th></th>\n",
              "      <th>Latitude</th>\n",
              "      <th>Longitude</th>\n",
              "      <th>Altitude</th>\n",
              "    </tr>\n",
              "  </thead>\n",
              "  <tbody>\n",
              "    <tr>\n",
              "      <th>0</th>\n",
              "      <td>34.630960</td>\n",
              "      <td>-118.107350</td>\n",
              "      <td>799.533333</td>\n",
              "    </tr>\n",
              "    <tr>\n",
              "      <th>1</th>\n",
              "      <td>34.630694</td>\n",
              "      <td>-118.113999</td>\n",
              "      <td>842.990000</td>\n",
              "    </tr>\n",
              "    <tr>\n",
              "      <th>2</th>\n",
              "      <td>34.630241</td>\n",
              "      <td>-118.123933</td>\n",
              "      <td>918.600000</td>\n",
              "    </tr>\n",
              "    <tr>\n",
              "      <th>3</th>\n",
              "      <td>34.629899</td>\n",
              "      <td>-118.134193</td>\n",
              "      <td>980.130000</td>\n",
              "    </tr>\n",
              "    <tr>\n",
              "      <th>4</th>\n",
              "      <td>34.630087</td>\n",
              "      <td>-118.144843</td>\n",
              "      <td>1037.710000</td>\n",
              "    </tr>\n",
              "  </tbody>\n",
              "</table>\n",
              "</div>"
            ],
            "text/plain": [
              "    Latitude   Longitude     Altitude\n",
              "0  34.630960 -118.107350   799.533333\n",
              "1  34.630694 -118.113999   842.990000\n",
              "2  34.630241 -118.123933   918.600000\n",
              "3  34.629899 -118.134193   980.130000\n",
              "4  34.630087 -118.144843  1037.710000"
            ]
          },
          "metadata": {
            "tags": []
          },
          "execution_count": 4
        }
      ]
    },
    {
      "cell_type": "code",
      "metadata": {
        "id": "aYrEUR5SxptW",
        "colab_type": "code",
        "colab": {
          "base_uri": "https://localhost:8080/",
          "height": 204
        },
        "outputId": "2ebab41a-7974-48ae-d55d-3062e9076a1d"
      },
      "source": [
        "\n",
        "new = data.shift(-1,axis=0)\n",
        "new.head()"
      ],
      "execution_count": 5,
      "outputs": [
        {
          "output_type": "execute_result",
          "data": {
            "text/html": [
              "<div>\n",
              "<style scoped>\n",
              "    .dataframe tbody tr th:only-of-type {\n",
              "        vertical-align: middle;\n",
              "    }\n",
              "\n",
              "    .dataframe tbody tr th {\n",
              "        vertical-align: top;\n",
              "    }\n",
              "\n",
              "    .dataframe thead th {\n",
              "        text-align: right;\n",
              "    }\n",
              "</style>\n",
              "<table border=\"1\" class=\"dataframe\">\n",
              "  <thead>\n",
              "    <tr style=\"text-align: right;\">\n",
              "      <th></th>\n",
              "      <th>Latitude</th>\n",
              "      <th>Longitude</th>\n",
              "      <th>Altitude</th>\n",
              "    </tr>\n",
              "  </thead>\n",
              "  <tbody>\n",
              "    <tr>\n",
              "      <th>0</th>\n",
              "      <td>34.630694</td>\n",
              "      <td>-118.113999</td>\n",
              "      <td>842.99</td>\n",
              "    </tr>\n",
              "    <tr>\n",
              "      <th>1</th>\n",
              "      <td>34.630241</td>\n",
              "      <td>-118.123933</td>\n",
              "      <td>918.60</td>\n",
              "    </tr>\n",
              "    <tr>\n",
              "      <th>2</th>\n",
              "      <td>34.629899</td>\n",
              "      <td>-118.134193</td>\n",
              "      <td>980.13</td>\n",
              "    </tr>\n",
              "    <tr>\n",
              "      <th>3</th>\n",
              "      <td>34.630087</td>\n",
              "      <td>-118.144843</td>\n",
              "      <td>1037.71</td>\n",
              "    </tr>\n",
              "    <tr>\n",
              "      <th>4</th>\n",
              "      <td>34.631843</td>\n",
              "      <td>-118.154980</td>\n",
              "      <td>1109.23</td>\n",
              "    </tr>\n",
              "  </tbody>\n",
              "</table>\n",
              "</div>"
            ],
            "text/plain": [
              "    Latitude   Longitude  Altitude\n",
              "0  34.630694 -118.113999    842.99\n",
              "1  34.630241 -118.123933    918.60\n",
              "2  34.629899 -118.134193    980.13\n",
              "3  34.630087 -118.144843   1037.71\n",
              "4  34.631843 -118.154980   1109.23"
            ]
          },
          "metadata": {
            "tags": []
          },
          "execution_count": 5
        }
      ]
    },
    {
      "cell_type": "code",
      "metadata": {
        "id": "icDDkGZyxtd7",
        "colab_type": "code",
        "colab": {
          "base_uri": "https://localhost:8080/",
          "height": 204
        },
        "outputId": "88b3c976-f8d6-410b-f413-a66b3ef17858"
      },
      "source": [
        "final = pd.concat([data,new],axis=1)\n",
        "final.head()"
      ],
      "execution_count": 6,
      "outputs": [
        {
          "output_type": "execute_result",
          "data": {
            "text/html": [
              "<div>\n",
              "<style scoped>\n",
              "    .dataframe tbody tr th:only-of-type {\n",
              "        vertical-align: middle;\n",
              "    }\n",
              "\n",
              "    .dataframe tbody tr th {\n",
              "        vertical-align: top;\n",
              "    }\n",
              "\n",
              "    .dataframe thead th {\n",
              "        text-align: right;\n",
              "    }\n",
              "</style>\n",
              "<table border=\"1\" class=\"dataframe\">\n",
              "  <thead>\n",
              "    <tr style=\"text-align: right;\">\n",
              "      <th></th>\n",
              "      <th>Latitude</th>\n",
              "      <th>Longitude</th>\n",
              "      <th>Altitude</th>\n",
              "      <th>Latitude</th>\n",
              "      <th>Longitude</th>\n",
              "      <th>Altitude</th>\n",
              "    </tr>\n",
              "  </thead>\n",
              "  <tbody>\n",
              "    <tr>\n",
              "      <th>0</th>\n",
              "      <td>34.630960</td>\n",
              "      <td>-118.107350</td>\n",
              "      <td>799.533333</td>\n",
              "      <td>34.630694</td>\n",
              "      <td>-118.113999</td>\n",
              "      <td>842.99</td>\n",
              "    </tr>\n",
              "    <tr>\n",
              "      <th>1</th>\n",
              "      <td>34.630694</td>\n",
              "      <td>-118.113999</td>\n",
              "      <td>842.990000</td>\n",
              "      <td>34.630241</td>\n",
              "      <td>-118.123933</td>\n",
              "      <td>918.60</td>\n",
              "    </tr>\n",
              "    <tr>\n",
              "      <th>2</th>\n",
              "      <td>34.630241</td>\n",
              "      <td>-118.123933</td>\n",
              "      <td>918.600000</td>\n",
              "      <td>34.629899</td>\n",
              "      <td>-118.134193</td>\n",
              "      <td>980.13</td>\n",
              "    </tr>\n",
              "    <tr>\n",
              "      <th>3</th>\n",
              "      <td>34.629899</td>\n",
              "      <td>-118.134193</td>\n",
              "      <td>980.130000</td>\n",
              "      <td>34.630087</td>\n",
              "      <td>-118.144843</td>\n",
              "      <td>1037.71</td>\n",
              "    </tr>\n",
              "    <tr>\n",
              "      <th>4</th>\n",
              "      <td>34.630087</td>\n",
              "      <td>-118.144843</td>\n",
              "      <td>1037.710000</td>\n",
              "      <td>34.631843</td>\n",
              "      <td>-118.154980</td>\n",
              "      <td>1109.23</td>\n",
              "    </tr>\n",
              "  </tbody>\n",
              "</table>\n",
              "</div>"
            ],
            "text/plain": [
              "    Latitude   Longitude     Altitude   Latitude   Longitude  Altitude\n",
              "0  34.630960 -118.107350   799.533333  34.630694 -118.113999    842.99\n",
              "1  34.630694 -118.113999   842.990000  34.630241 -118.123933    918.60\n",
              "2  34.630241 -118.123933   918.600000  34.629899 -118.134193    980.13\n",
              "3  34.629899 -118.134193   980.130000  34.630087 -118.144843   1037.71\n",
              "4  34.630087 -118.144843  1037.710000  34.631843 -118.154980   1109.23"
            ]
          },
          "metadata": {
            "tags": []
          },
          "execution_count": 6
        }
      ]
    },
    {
      "cell_type": "code",
      "metadata": {
        "id": "iWyq14m7xy5k",
        "colab_type": "code",
        "colab": {}
      },
      "source": [
        ""
      ],
      "execution_count": 6,
      "outputs": []
    },
    {
      "cell_type": "code",
      "metadata": {
        "id": "yNO-aZkepmFw",
        "colab_type": "code",
        "colab": {
          "base_uri": "https://localhost:8080/",
          "height": 51
        },
        "outputId": "38148f43-9b00-4750-f6af-b102f1b84da6"
      },
      "source": [
        "print(len(final))\n",
        "final.dropna(inplace=True)\n",
        "print(len(final))"
      ],
      "execution_count": 7,
      "outputs": [
        {
          "output_type": "stream",
          "text": [
            "166400\n",
            "166399\n"
          ],
          "name": "stdout"
        }
      ]
    },
    {
      "cell_type": "code",
      "metadata": {
        "id": "-YndOZ4Z2jP6",
        "colab_type": "code",
        "colab": {}
      },
      "source": [
        "values = final.values\n",
        "scaler = MinMaxScaler(feature_range=(0, 1))\n",
        "values = scaler.fit_transform(values)\n",
        "X = values[:,:3]\n",
        "Y = values[:,3:]"
      ],
      "execution_count": 8,
      "outputs": []
    },
    {
      "cell_type": "code",
      "metadata": {
        "id": "iHY6_SKT2jr_",
        "colab_type": "code",
        "colab": {}
      },
      "source": [
        "X_train, X_test,Y_train,Y_test = train_test_split(X,Y,test_size=1000,shuffle=True)"
      ],
      "execution_count": 9,
      "outputs": []
    },
    {
      "cell_type": "code",
      "metadata": {
        "id": "ZEcsZm_ezChm",
        "colab_type": "code",
        "colab": {
          "base_uri": "https://localhost:8080/",
          "height": 34
        },
        "outputId": "ebd1c4a0-0136-4749-b5a2-64b18417b826"
      },
      "source": [
        "print(X_train.shape,X_test.shape)"
      ],
      "execution_count": 10,
      "outputs": [
        {
          "output_type": "stream",
          "text": [
            "(165399, 3) (1000, 3)\n"
          ],
          "name": "stdout"
        }
      ]
    },
    {
      "cell_type": "code",
      "metadata": {
        "id": "TE25BGUm5Vn2",
        "colab_type": "code",
        "colab": {}
      },
      "source": [
        "X_train = np.reshape(X_train,(165399,1,3))\n",
        "X_test = np.reshape(X_test,(1000,1,3))\n"
      ],
      "execution_count": 11,
      "outputs": []
    },
    {
      "cell_type": "code",
      "metadata": {
        "id": "P2gMI8zT8EYe",
        "colab_type": "code",
        "colab": {}
      },
      "source": [
        "def create_model():\n",
        "  model = Sequential()\n",
        "  model.add(LSTM(50, input_shape=(X_train.shape[1], X_train.shape[2])))\n",
        "  model.add(Dense(3))\n",
        "  return model\n"
      ],
      "execution_count": 12,
      "outputs": []
    },
    {
      "cell_type": "code",
      "metadata": {
        "id": "4c8RRuKw_ca6",
        "colab_type": "code",
        "colab": {}
      },
      "source": [
        "def train_model(filepath):\n",
        "  model = create_model()\n",
        "  model.compile(loss='mae', optimizer='adam')\n",
        "  # fit network\n",
        "  checkpoint = ModelCheckpoint(filepath, monitor='val_loss', verbose=1, save_best_only=True)\n",
        "  history = model.fit(X_train, Y_train, epochs=50, batch_size=100, validation_data=(X_test, Y_test), verbose=2, shuffle=False,callbacks=[checkpoint])\n",
        "  return history"
      ],
      "execution_count": 13,
      "outputs": []
    },
    {
      "cell_type": "code",
      "metadata": {
        "id": "PQmQm12x8m4y",
        "colab_type": "code",
        "colab": {
          "base_uri": "https://localhost:8080/",
          "height": 1000
        },
        "outputId": "4df00617-badd-4161-c7b5-38edaa0a1adf"
      },
      "source": [
        "filepath = '/content/drive/Shared drives/SIH2020/Akash_prediction/lstm_1_timestep.hdf5'\n",
        "history = train_model(filepath)"
      ],
      "execution_count": 14,
      "outputs": [
        {
          "output_type": "stream",
          "text": [
            "Train on 165399 samples, validate on 1000 samples\n",
            "Epoch 1/50\n",
            " - 11s - loss: 0.0274 - val_loss: 0.0021\n",
            "\n",
            "Epoch 00001: val_loss improved from inf to 0.00205, saving model to /content/drive/Shared drives/SIH2020/Akash_prediction/lstm_1_timestep.hdf5\n",
            "Epoch 2/50\n",
            " - 11s - loss: 0.0020 - val_loss: 0.0018\n",
            "\n",
            "Epoch 00002: val_loss improved from 0.00205 to 0.00179, saving model to /content/drive/Shared drives/SIH2020/Akash_prediction/lstm_1_timestep.hdf5\n",
            "Epoch 3/50\n",
            " - 11s - loss: 0.0019 - val_loss: 0.0017\n",
            "\n",
            "Epoch 00003: val_loss improved from 0.00179 to 0.00171, saving model to /content/drive/Shared drives/SIH2020/Akash_prediction/lstm_1_timestep.hdf5\n",
            "Epoch 4/50\n",
            " - 11s - loss: 0.0019 - val_loss: 0.0018\n",
            "\n",
            "Epoch 00004: val_loss did not improve from 0.00171\n",
            "Epoch 5/50\n",
            " - 11s - loss: 0.0018 - val_loss: 0.0016\n",
            "\n",
            "Epoch 00005: val_loss improved from 0.00171 to 0.00156, saving model to /content/drive/Shared drives/SIH2020/Akash_prediction/lstm_1_timestep.hdf5\n",
            "Epoch 6/50\n",
            " - 11s - loss: 0.0018 - val_loss: 0.0017\n",
            "\n",
            "Epoch 00006: val_loss did not improve from 0.00156\n",
            "Epoch 7/50\n",
            " - 11s - loss: 0.0018 - val_loss: 0.0015\n",
            "\n",
            "Epoch 00007: val_loss improved from 0.00156 to 0.00147, saving model to /content/drive/Shared drives/SIH2020/Akash_prediction/lstm_1_timestep.hdf5\n",
            "Epoch 8/50\n",
            " - 11s - loss: 0.0017 - val_loss: 0.0015\n",
            "\n",
            "Epoch 00008: val_loss did not improve from 0.00147\n",
            "Epoch 9/50\n",
            " - 11s - loss: 0.0017 - val_loss: 0.0017\n",
            "\n",
            "Epoch 00009: val_loss did not improve from 0.00147\n",
            "Epoch 10/50\n",
            " - 11s - loss: 0.0017 - val_loss: 0.0017\n",
            "\n",
            "Epoch 00010: val_loss did not improve from 0.00147\n",
            "Epoch 11/50\n",
            " - 11s - loss: 0.0017 - val_loss: 0.0018\n",
            "\n",
            "Epoch 00011: val_loss did not improve from 0.00147\n",
            "Epoch 12/50\n",
            " - 11s - loss: 0.0017 - val_loss: 0.0018\n",
            "\n",
            "Epoch 00012: val_loss did not improve from 0.00147\n",
            "Epoch 13/50\n",
            " - 12s - loss: 0.0017 - val_loss: 0.0014\n",
            "\n",
            "Epoch 00013: val_loss improved from 0.00147 to 0.00137, saving model to /content/drive/Shared drives/SIH2020/Akash_prediction/lstm_1_timestep.hdf5\n",
            "Epoch 14/50\n",
            " - 11s - loss: 0.0017 - val_loss: 0.0017\n",
            "\n",
            "Epoch 00014: val_loss did not improve from 0.00137\n",
            "Epoch 15/50\n",
            " - 11s - loss: 0.0017 - val_loss: 0.0013\n",
            "\n",
            "Epoch 00015: val_loss improved from 0.00137 to 0.00129, saving model to /content/drive/Shared drives/SIH2020/Akash_prediction/lstm_1_timestep.hdf5\n",
            "Epoch 16/50\n",
            " - 11s - loss: 0.0017 - val_loss: 0.0015\n",
            "\n",
            "Epoch 00016: val_loss did not improve from 0.00129\n",
            "Epoch 17/50\n",
            " - 11s - loss: 0.0016 - val_loss: 0.0017\n",
            "\n",
            "Epoch 00017: val_loss did not improve from 0.00129\n",
            "Epoch 18/50\n",
            " - 11s - loss: 0.0016 - val_loss: 0.0014\n",
            "\n",
            "Epoch 00018: val_loss did not improve from 0.00129\n",
            "Epoch 19/50\n",
            " - 11s - loss: 0.0016 - val_loss: 0.0016\n",
            "\n",
            "Epoch 00019: val_loss did not improve from 0.00129\n",
            "Epoch 20/50\n",
            " - 11s - loss: 0.0017 - val_loss: 0.0015\n",
            "\n",
            "Epoch 00020: val_loss did not improve from 0.00129\n",
            "Epoch 21/50\n",
            " - 11s - loss: 0.0017 - val_loss: 0.0015\n",
            "\n",
            "Epoch 00021: val_loss did not improve from 0.00129\n",
            "Epoch 22/50\n",
            " - 11s - loss: 0.0016 - val_loss: 0.0017\n",
            "\n",
            "Epoch 00022: val_loss did not improve from 0.00129\n",
            "Epoch 23/50\n",
            " - 11s - loss: 0.0016 - val_loss: 0.0015\n",
            "\n",
            "Epoch 00023: val_loss did not improve from 0.00129\n",
            "Epoch 24/50\n",
            " - 11s - loss: 0.0016 - val_loss: 0.0015\n",
            "\n",
            "Epoch 00024: val_loss did not improve from 0.00129\n",
            "Epoch 25/50\n",
            " - 11s - loss: 0.0016 - val_loss: 0.0014\n",
            "\n",
            "Epoch 00025: val_loss did not improve from 0.00129\n",
            "Epoch 26/50\n",
            " - 11s - loss: 0.0016 - val_loss: 0.0013\n",
            "\n",
            "Epoch 00026: val_loss improved from 0.00129 to 0.00128, saving model to /content/drive/Shared drives/SIH2020/Akash_prediction/lstm_1_timestep.hdf5\n",
            "Epoch 27/50\n",
            " - 11s - loss: 0.0016 - val_loss: 0.0014\n",
            "\n",
            "Epoch 00027: val_loss did not improve from 0.00128\n",
            "Epoch 28/50\n",
            " - 12s - loss: 0.0017 - val_loss: 0.0016\n",
            "\n",
            "Epoch 00028: val_loss did not improve from 0.00128\n",
            "Epoch 29/50\n",
            " - 11s - loss: 0.0016 - val_loss: 0.0014\n",
            "\n",
            "Epoch 00029: val_loss did not improve from 0.00128\n",
            "Epoch 30/50\n",
            " - 11s - loss: 0.0016 - val_loss: 0.0013\n",
            "\n",
            "Epoch 00030: val_loss did not improve from 0.00128\n",
            "Epoch 31/50\n",
            " - 11s - loss: 0.0016 - val_loss: 0.0015\n",
            "\n",
            "Epoch 00031: val_loss did not improve from 0.00128\n",
            "Epoch 32/50\n",
            " - 11s - loss: 0.0016 - val_loss: 0.0015\n",
            "\n",
            "Epoch 00032: val_loss did not improve from 0.00128\n",
            "Epoch 33/50\n",
            " - 11s - loss: 0.0016 - val_loss: 0.0014\n",
            "\n",
            "Epoch 00033: val_loss did not improve from 0.00128\n",
            "Epoch 34/50\n",
            " - 11s - loss: 0.0016 - val_loss: 0.0015\n",
            "\n",
            "Epoch 00034: val_loss did not improve from 0.00128\n",
            "Epoch 35/50\n",
            " - 11s - loss: 0.0017 - val_loss: 0.0015\n",
            "\n",
            "Epoch 00035: val_loss did not improve from 0.00128\n",
            "Epoch 36/50\n",
            " - 11s - loss: 0.0017 - val_loss: 0.0016\n",
            "\n",
            "Epoch 00036: val_loss did not improve from 0.00128\n",
            "Epoch 37/50\n",
            " - 11s - loss: 0.0016 - val_loss: 0.0012\n",
            "\n",
            "Epoch 00037: val_loss improved from 0.00128 to 0.00120, saving model to /content/drive/Shared drives/SIH2020/Akash_prediction/lstm_1_timestep.hdf5\n",
            "Epoch 38/50\n",
            " - 11s - loss: 0.0016 - val_loss: 0.0016\n",
            "\n",
            "Epoch 00038: val_loss did not improve from 0.00120\n",
            "Epoch 39/50\n",
            " - 11s - loss: 0.0016 - val_loss: 0.0017\n",
            "\n",
            "Epoch 00039: val_loss did not improve from 0.00120\n",
            "Epoch 40/50\n",
            " - 11s - loss: 0.0017 - val_loss: 0.0020\n",
            "\n",
            "Epoch 00040: val_loss did not improve from 0.00120\n",
            "Epoch 41/50\n",
            " - 11s - loss: 0.0017 - val_loss: 0.0013\n",
            "\n",
            "Epoch 00041: val_loss did not improve from 0.00120\n",
            "Epoch 42/50\n",
            " - 11s - loss: 0.0016 - val_loss: 0.0015\n",
            "\n",
            "Epoch 00042: val_loss did not improve from 0.00120\n",
            "Epoch 43/50\n",
            " - 11s - loss: 0.0017 - val_loss: 0.0015\n",
            "\n",
            "Epoch 00043: val_loss did not improve from 0.00120\n",
            "Epoch 44/50\n",
            " - 11s - loss: 0.0017 - val_loss: 0.0015\n",
            "\n",
            "Epoch 00044: val_loss did not improve from 0.00120\n",
            "Epoch 45/50\n",
            " - 11s - loss: 0.0017 - val_loss: 0.0016\n",
            "\n",
            "Epoch 00045: val_loss did not improve from 0.00120\n",
            "Epoch 46/50\n",
            " - 11s - loss: 0.0016 - val_loss: 0.0018\n",
            "\n",
            "Epoch 00046: val_loss did not improve from 0.00120\n",
            "Epoch 47/50\n",
            " - 11s - loss: 0.0016 - val_loss: 0.0015\n",
            "\n",
            "Epoch 00047: val_loss did not improve from 0.00120\n",
            "Epoch 48/50\n",
            " - 11s - loss: 0.0016 - val_loss: 0.0017\n",
            "\n",
            "Epoch 00048: val_loss did not improve from 0.00120\n",
            "Epoch 49/50\n",
            " - 11s - loss: 0.0016 - val_loss: 0.0013\n",
            "\n",
            "Epoch 00049: val_loss did not improve from 0.00120\n",
            "Epoch 50/50\n",
            " - 11s - loss: 0.0017 - val_loss: 0.0013\n",
            "\n",
            "Epoch 00050: val_loss did not improve from 0.00120\n"
          ],
          "name": "stdout"
        }
      ]
    },
    {
      "cell_type": "code",
      "metadata": {
        "id": "lKWMVu38CCMo",
        "colab_type": "code",
        "colab": {
          "base_uri": "https://localhost:8080/",
          "height": 34
        },
        "outputId": "5a50c931-158a-481d-b9f6-d78779ded52a"
      },
      "source": [
        "model = create_model()\n",
        "model.load_weights(filepath)\n",
        "\n",
        "yhat = model.predict(X_test)\n",
        "X_test = np.reshape(X_test,(X_test.shape[0],X_test.shape[2]))\n",
        "\n",
        "yhat = np.concatenate((yhat,X_test),axis=1)\n",
        "inv_yhat = scaler.inverse_transform(yhat)\n",
        "\n",
        "Y_test = np.concatenate((Y_test,X_test),axis=1)\n",
        "inv_y = scaler.inverse_transform(Y_test)\n",
        "\n",
        "d1 = pd.DataFrame(inv_yhat)\n",
        "d2 = pd.DataFrame(inv_y)\n",
        "\n",
        "inv_yhat = d1.iloc[:,:3]\n",
        "inv_y = d2.iloc[:,:3]\n",
        "\n",
        "# calculate RMSE\n",
        "rmse = math.sqrt(mean_squared_error(inv_y, inv_yhat))\n",
        "#rmse = math.sqrt(mean_squared_error(yhat,Y_test))\n",
        "print('Test RMSE: %.3f' % rmse)"
      ],
      "execution_count": 15,
      "outputs": [
        {
          "output_type": "stream",
          "text": [
            "Test RMSE: 33.157\n"
          ],
          "name": "stdout"
        }
      ]
    },
    {
      "cell_type": "code",
      "metadata": {
        "id": "FM5n3S0r0Sjo",
        "colab_type": "code",
        "colab": {
          "base_uri": "https://localhost:8080/",
          "height": 238
        },
        "outputId": "1eba9a73-e082-4b24-ffc3-a28a9353f563"
      },
      "source": [
        "yhat"
      ],
      "execution_count": 16,
      "outputs": [
        {
          "output_type": "execute_result",
          "data": {
            "text/plain": [
              "array([[2.24847078e-01, 3.43806297e-01, 5.51753938e-01, 2.24846226e-01,\n",
              "        3.43599422e-01, 5.50860486e-01],\n",
              "       [8.53289843e-01, 6.16898276e-02, 6.47152841e-01, 8.53133394e-01,\n",
              "        6.20553523e-02, 6.46812623e-01],\n",
              "       [6.86491907e-01, 1.68910712e-01, 2.99041927e-01, 6.86495231e-01,\n",
              "        1.69293157e-01, 2.99313169e-01],\n",
              "       ...,\n",
              "       [7.24440992e-01, 1.71233445e-01, 9.14326072e-01, 7.24261066e-01,\n",
              "        1.71415013e-01, 9.14908000e-01],\n",
              "       [8.27318788e-01, 5.20734154e-02, 6.77869618e-01, 8.27112323e-01,\n",
              "        5.23915853e-02, 6.77513193e-01],\n",
              "       [5.09836078e-01, 5.00195324e-01, 2.03538686e-04, 5.09568537e-01,\n",
              "        4.99999265e-01, 0.00000000e+00]])"
            ]
          },
          "metadata": {
            "tags": []
          },
          "execution_count": 16
        }
      ]
    },
    {
      "cell_type": "code",
      "metadata": {
        "id": "kT0ipBdp16cl",
        "colab_type": "code",
        "colab": {
          "base_uri": "https://localhost:8080/",
          "height": 204
        },
        "outputId": "db45ba5a-df80-40d2-9090-c062ae202e97"
      },
      "source": [
        "inv_yhat.head()"
      ],
      "execution_count": 17,
      "outputs": [
        {
          "output_type": "execute_result",
          "data": {
            "text/html": [
              "<div>\n",
              "<style scoped>\n",
              "    .dataframe tbody tr th:only-of-type {\n",
              "        vertical-align: middle;\n",
              "    }\n",
              "\n",
              "    .dataframe tbody tr th {\n",
              "        vertical-align: top;\n",
              "    }\n",
              "\n",
              "    .dataframe thead th {\n",
              "        text-align: right;\n",
              "    }\n",
              "</style>\n",
              "<table border=\"1\" class=\"dataframe\">\n",
              "  <thead>\n",
              "    <tr style=\"text-align: right;\">\n",
              "      <th></th>\n",
              "      <th>0</th>\n",
              "      <th>1</th>\n",
              "      <th>2</th>\n",
              "    </tr>\n",
              "  </thead>\n",
              "  <tbody>\n",
              "    <tr>\n",
              "      <th>0</th>\n",
              "      <td>-48.151278</td>\n",
              "      <td>-56.229386</td>\n",
              "      <td>7296.675473</td>\n",
              "    </tr>\n",
              "    <tr>\n",
              "      <th>1</th>\n",
              "      <td>58.129163</td>\n",
              "      <td>-157.791166</td>\n",
              "      <td>8558.279219</td>\n",
              "    </tr>\n",
              "    <tr>\n",
              "      <th>2</th>\n",
              "      <td>29.920774</td>\n",
              "      <td>-119.191704</td>\n",
              "      <td>3954.682952</td>\n",
              "    </tr>\n",
              "    <tr>\n",
              "      <th>3</th>\n",
              "      <td>70.813773</td>\n",
              "      <td>-148.323369</td>\n",
              "      <td>3024.286962</td>\n",
              "    </tr>\n",
              "    <tr>\n",
              "      <th>4</th>\n",
              "      <td>67.258297</td>\n",
              "      <td>-47.536402</td>\n",
              "      <td>6946.231653</td>\n",
              "    </tr>\n",
              "  </tbody>\n",
              "</table>\n",
              "</div>"
            ],
            "text/plain": [
              "           0           1            2\n",
              "0 -48.151278  -56.229386  7296.675473\n",
              "1  58.129163 -157.791166  8558.279219\n",
              "2  29.920774 -119.191704  3954.682952\n",
              "3  70.813773 -148.323369  3024.286962\n",
              "4  67.258297  -47.536402  6946.231653"
            ]
          },
          "metadata": {
            "tags": []
          },
          "execution_count": 17
        }
      ]
    },
    {
      "cell_type": "code",
      "metadata": {
        "id": "XmoF_Xmx2oJH",
        "colab_type": "code",
        "colab": {
          "base_uri": "https://localhost:8080/",
          "height": 204
        },
        "outputId": "88281840-f26f-4bff-e89f-55a13da7b9d8"
      },
      "source": [
        "d1.iloc[:,3:].head()"
      ],
      "execution_count": 18,
      "outputs": [
        {
          "output_type": "execute_result",
          "data": {
            "text/html": [
              "<div>\n",
              "<style scoped>\n",
              "    .dataframe tbody tr th:only-of-type {\n",
              "        vertical-align: middle;\n",
              "    }\n",
              "\n",
              "    .dataframe tbody tr th {\n",
              "        vertical-align: top;\n",
              "    }\n",
              "\n",
              "    .dataframe thead th {\n",
              "        text-align: right;\n",
              "    }\n",
              "</style>\n",
              "<table border=\"1\" class=\"dataframe\">\n",
              "  <thead>\n",
              "    <tr style=\"text-align: right;\">\n",
              "      <th></th>\n",
              "      <th>3</th>\n",
              "      <th>4</th>\n",
              "      <th>5</th>\n",
              "    </tr>\n",
              "  </thead>\n",
              "  <tbody>\n",
              "    <tr>\n",
              "      <th>0</th>\n",
              "      <td>-48.151422</td>\n",
              "      <td>-56.303861</td>\n",
              "      <td>7284.86</td>\n",
              "    </tr>\n",
              "    <tr>\n",
              "      <th>1</th>\n",
              "      <td>58.102705</td>\n",
              "      <td>-157.659577</td>\n",
              "      <td>8553.78</td>\n",
              "    </tr>\n",
              "    <tr>\n",
              "      <th>2</th>\n",
              "      <td>29.921336</td>\n",
              "      <td>-119.054024</td>\n",
              "      <td>3958.27</td>\n",
              "    </tr>\n",
              "    <tr>\n",
              "      <th>3</th>\n",
              "      <td>70.823889</td>\n",
              "      <td>-148.140433</td>\n",
              "      <td>3030.13</td>\n",
              "    </tr>\n",
              "    <tr>\n",
              "      <th>4</th>\n",
              "      <td>67.203287</td>\n",
              "      <td>-47.482183</td>\n",
              "      <td>6944.08</td>\n",
              "    </tr>\n",
              "  </tbody>\n",
              "</table>\n",
              "</div>"
            ],
            "text/plain": [
              "           3           4        5\n",
              "0 -48.151422  -56.303861  7284.86\n",
              "1  58.102705 -157.659577  8553.78\n",
              "2  29.921336 -119.054024  3958.27\n",
              "3  70.823889 -148.140433  3030.13\n",
              "4  67.203287  -47.482183  6944.08"
            ]
          },
          "metadata": {
            "tags": []
          },
          "execution_count": 18
        }
      ]
    },
    {
      "cell_type": "code",
      "metadata": {
        "id": "stlpZ82J_Vu-",
        "colab_type": "code",
        "colab": {
          "base_uri": "https://localhost:8080/",
          "height": 308
        },
        "outputId": "964461a9-1a38-4763-dd6e-0aceb7d60d1e"
      },
      "source": [
        "t = np.arange(50)\n",
        "x_pred = d1.iloc[:50,0]\n",
        "x_true = d2.iloc[:50,0]\n",
        "plt.plot(t,x_pred,'ro', label ='Predicted') \n",
        "plt.plot(t,x_true,'g+', label ='Actual')\n",
        "plt.legend()\n",
        "plt.xlabel('Timestep')\n",
        "plt.ylabel('Latitude')\n",
        "plt.title('Predicted v/s True Airplane')\n",
        "plt.suptitle('Trained with 1 timestep')\n",
        "plt.savefig('/content/drive/Shared drives/SIH2020/Akash_prediction/lstm_1_lat_time.png')\n",
        "plt.show()"
      ],
      "execution_count": 42,
      "outputs": [
        {
          "output_type": "display_data",
          "data": {
            "image/png": "[encoded data removed]",
            "text/plain": [
              "<Figure size 432x288 with 1 Axes>"
            ]
          },
          "metadata": {
            "tags": [],
            "needs_background": "light"
          }
        }
      ]
    },
    {
      "cell_type": "code",
      "metadata": {
        "id": "HjAUqQ4M_Vnm",
        "colab_type": "code",
        "colab": {
          "base_uri": "https://localhost:8080/",
          "height": 308
        },
        "outputId": "12410f80-9616-4280-a113-6b0632f34c3f"
      },
      "source": [
        "t = np.arange(50)\n",
        "x_pred = d1.iloc[:50,1]\n",
        "x_true = d2.iloc[:50,1]\n",
        "plt.plot(t,x_pred,'ro', label ='Predicted') \n",
        "plt.plot(t,x_true,'g+', label ='Actual')\n",
        "plt.legend()\n",
        "plt.xlabel('Timestep')\n",
        "plt.ylabel('Latitude')\n",
        "plt.title('Predicted v/s True Airplane')\n",
        "plt.suptitle('Trained with 1 timestep')\n",
        "plt.savefig('/content/drive/Shared drives/SIH2020/Akash_prediction/lstm_1_lon_time.png')\n",
        "plt.show()"
      ],
      "execution_count": 43,
      "outputs": [
        {
          "output_type": "display_data",
          "data": {
            "image/png": "[encoded data removed]",
            "text/plain": [
              "<Figure size 432x288 with 1 Axes>"
            ]
          },
          "metadata": {
            "tags": [],
            "needs_background": "light"
          }
        }
      ]
    },
    {
      "cell_type": "code",
      "metadata": {
        "id": "FIUvufHwt3Hf",
        "colab_type": "code",
        "colab": {
          "base_uri": "https://localhost:8080/",
          "height": 308
        },
        "outputId": "79423155-89db-4d52-8c21-837813e85f77"
      },
      "source": [
        "t = np.arange(50)\n",
        "x_pred = d1.iloc[:50,2]\n",
        "x_true = d2.iloc[:50,2]\n",
        "plt.plot(t,x_pred,'ro', label ='Predicted') \n",
        "plt.plot(t,x_true,'g+', label ='Actual')\n",
        "plt.legend()\n",
        "plt.xlabel('Timestep')\n",
        "plt.ylabel('Latitude')\n",
        "plt.title('Predicted v/s True Airplane')\n",
        "plt.suptitle('Trained with 1 timestep')\n",
        "plt.savefig('/content/drive/Shared drives/SIH2020/Akash_prediction/lstm_1_alt_time.png')\n",
        "plt.show()"
      ],
      "execution_count": 44,
      "outputs": [
        {
          "output_type": "display_data",
          "data": {
            "image/png": "[encoded data removed]",
            "text/plain": [
              "<Figure size 432x288 with 1 Axes>"
            ]
          },
          "metadata": {
            "tags": [],
            "needs_background": "light"
          }
        }
      ]
    },
    {
      "cell_type": "code",
      "metadata": {
        "id": "TNNnwV9cuhji",
        "colab_type": "code",
        "colab": {}
      },
      "source": [
        ""
      ],
      "execution_count": null,
      "outputs": []
    }
  ]
}